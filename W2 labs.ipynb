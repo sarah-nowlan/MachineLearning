{
 "cells": [
  {
   "cell_type": "markdown",
   "id": "0963a0b7",
   "metadata": {},
   "source": [
    "# Week 2 Labs"
   ]
  },
  {
   "cell_type": "markdown",
   "id": "d9b4ea63",
   "metadata": {},
   "source": [
    "## Exercise 1:\n",
    "### Open jupyter notebook LabExercise_4.ipynb and go through the following steps:\n"
   ]
  },
  {
   "cell_type": "code",
   "execution_count": 7,
   "id": "c5118d2e",
   "metadata": {},
   "outputs": [],
   "source": [
    "import numpy as np\n"
   ]
  },
  {
   "cell_type": "markdown",
   "id": "736cbc04",
   "metadata": {},
   "source": [
    "1. Using numpy arrays and slicing operations (:), define and print the following A, B, and C matrix:\n",
    "A=[■(5&2&3@6&1&3@2&4&1)],       B=[■(5&2&3@6&1&3@2&4&1)],           C=[■(5&2&3@6&1&3@2&4&1)]"
   ]
  },
  {
   "cell_type": "code",
   "execution_count": 2,
   "id": "1698f469",
   "metadata": {},
   "outputs": [
    {
     "name": "stdout",
     "output_type": "stream",
     "text": [
      "[[5 2 3]\n",
      " [6 1 3]\n",
      " [2 4 1]]\n",
      "[[5 2 3]\n",
      " [6 1 3]\n",
      " [2 4 1]]\n",
      "[[5 2 3]\n",
      " [6 1 3]\n",
      " [2 4 1]]\n"
     ]
    },
    {
     "data": {
      "text/plain": [
       "(None, None, None)"
      ]
     },
     "execution_count": 2,
     "metadata": {},
     "output_type": "execute_result"
    }
   ],
   "source": [
    "A = np.matrix('5,2,3 ; 6,1,3 ;2 ,4,1')\n",
    "B = A\n",
    "C = A\n",
    "print(A) , print(B), print(C)"
   ]
  },
  {
   "cell_type": "markdown",
   "id": "cd4a2f70",
   "metadata": {},
   "source": [
    "2. Define D matrix using numpy:\n",
    "D=[■(4&-7&4@5&6&-1@-4&2&5)]"
   ]
  },
  {
   "cell_type": "code",
   "execution_count": 3,
   "id": "bf7ad9ea",
   "metadata": {},
   "outputs": [
    {
     "name": "stdout",
     "output_type": "stream",
     "text": [
      "[[ 4 -7  4]\n",
      " [ 5  6 -1]\n",
      " [-4  2  5]]\n"
     ]
    }
   ],
   "source": [
    "D = np.matrix('4,-7,4;5,6,-1;-4,2,5')\n",
    "print(D)"
   ]
  },
  {
   "cell_type": "markdown",
   "id": "e5b10ab9",
   "metadata": {},
   "source": [
    "3. Use numpy matmul to calculate AD and also DA. Are they equal?"
   ]
  },
  {
   "cell_type": "code",
   "execution_count": 4,
   "id": "9448a6a3",
   "metadata": {},
   "outputs": [
    {
     "name": "stdout",
     "output_type": "stream",
     "text": [
      "[[ 18 -17  33]\n",
      " [ 17 -30  38]\n",
      " [ 24  12   9]]\n",
      "[[-14  17  -5]\n",
      " [ 59  12  32]\n",
      " [  2  14  -1]]\n"
     ]
    },
    {
     "data": {
      "text/plain": [
       "(None, None)"
      ]
     },
     "execution_count": 4,
     "metadata": {},
     "output_type": "execute_result"
    }
   ],
   "source": [
    "AD = np.matmul(A,D)\n",
    "DA = np.matmul(D,A)\n",
    "print(AD), print(DA)"
   ]
  },
  {
   "cell_type": "markdown",
   "id": "4d6136fd",
   "metadata": {},
   "source": [
    "matmul on matrix AD and DA are not the same"
   ]
  },
  {
   "cell_type": "markdown",
   "id": "4feaac68",
   "metadata": {},
   "source": [
    "4. Manually calculate the determinant and inverse of B. Use numpy to calculate the same entities and confirm that your manual calculation agrees with your results from the jupyter notebook."
   ]
  },
  {
   "cell_type": "markdown",
   "id": "9e5c0012",
   "metadata": {},
   "source": [
    "manual calcutlations: determinant = 11.\n",
    "inverse Matrix =  | -1,  10/11 , 3/11  |\n",
    "                  |  0,  -1/11  , 3/11 |\n",
    "                  |  2 , -16/11 , -1/11|"
   ]
  },
  {
   "cell_type": "code",
   "execution_count": 11,
   "id": "6e5c4c6e",
   "metadata": {},
   "outputs": [
    {
     "name": "stdout",
     "output_type": "stream",
     "text": [
      "Determinate of B is:  11.000000000000007\n",
      "Inverse of B is: \n",
      "[[-1.00000000e+00  9.09090909e-01  2.72727273e-01]\n",
      " [-3.02788098e-17 -9.09090909e-02  2.72727273e-01]\n",
      " [ 2.00000000e+00 -1.45454545e+00 -6.36363636e-01]]\n"
     ]
    },
    {
     "data": {
      "text/plain": [
       "(None, None, None)"
      ]
     },
     "execution_count": 11,
     "metadata": {},
     "output_type": "execute_result"
    }
   ],
   "source": [
    "Bdet = np.linalg.det(B)\n",
    "Binv = np.linalg.inv(B)\n",
    "print(\"Determinate of B is: \",Bdet) , print(\"Inverse of B is: \"), print(Binv)\n",
    "#similr answer. mine were rounded so less decimals. program more exact"
   ]
  },
  {
   "cell_type": "markdown",
   "id": "5c099879",
   "metadata": {},
   "source": [
    "5. Use numpy to calculate the inverse of D. Confirm that 〖DD〗^(-1) and D^(-1) D both are 3-by-3 identity matrices. Do you have any observations?"
   ]
  },
  {
   "cell_type": "code",
   "execution_count": 18,
   "id": "1ef1b24d",
   "metadata": {},
   "outputs": [
    {
     "name": "stdout",
     "output_type": "stream",
     "text": [
      "DD ^-1: \n",
      "[[ 34  61 -44]\n",
      " [-55   0 -10]\n",
      " [ 25 -51  -8]]\n",
      "D^-1: \n",
      "[[ 30  61 -51]\n",
      " [-59   0 -17]\n",
      " [ 21 -51 -15]]\n"
     ]
    },
    {
     "data": {
      "text/plain": [
       "(None, None, None, None)"
      ]
     },
     "execution_count": 18,
     "metadata": {},
     "output_type": "execute_result"
    }
   ],
   "source": [
    "Dinv = np.linalg.inv(D)\n",
    "D1 = (D*D)^-1\n",
    "D2 = (D^-1)*D\n",
    "print(\"DD ^-1: \"), print(D1), print(\"D^-1: \"), print(D2)"
   ]
  },
  {
   "cell_type": "markdown",
   "id": "8e946e57",
   "metadata": {},
   "source": [
    "# Exercise 2:\n"
   ]
  },
  {
   "cell_type": "markdown",
   "id": "e649b4d7",
   "metadata": {},
   "source": [
    "1. Calculate the bag of words (without TF-IDF, just word counts) matrix for the following 5 phrases.\n",
    "•\tcollege student\n",
    "•\tairport taxi driver\n",
    "•\tToronto art museum\n",
    "•\tlife art\n",
    "•\tmachine learning student \n",
    "Hints: How many rows should be there? How many columns should be there?"
   ]
  },
  {
   "cell_type": "markdown",
   "id": "80d67a44",
   "metadata": {},
   "source": [
    "There should be 5 rows as there are 5 phrases and 11 columns because there are 11 unique words"
   ]
  },
  {
   "cell_type": "markdown",
   "id": "a197e722",
   "metadata": {},
   "source": [
    " college|studten|airport|taxi|driver|toronto|art|museum|life|mahcine|learning|\n",
    "|   1       1       0     0     0      0      0     0    0     0        0    |\n",
    "|   0       0       1     1     1      0      0     0    0     0        0    |\n",
    "|   0       0       0     0     0      1      1     1    0     0        0    |\n",
    "|   0       0       0     0     0      0      1     0    1     0        0    |\n",
    "|   0       1       0     0     0      0      0     0    0     1        1    |"
   ]
  },
  {
   "cell_type": "markdown",
   "id": "9fcba9cb",
   "metadata": {},
   "source": [
    "2. Calculate the IDF for the words “college” and “art”."
   ]
  },
  {
   "cell_type": "markdown",
   "id": "d89f236a",
   "metadata": {},
   "source": [
    "college TF = 1\n",
    "college IDF = 1/11\n",
    "\n",
    "art TF = 2\n",
    "art IDF = 2/11\n"
   ]
  },
  {
   "cell_type": "code",
   "execution_count": null,
   "id": "06763e8b",
   "metadata": {},
   "outputs": [],
   "source": []
  }
 ],
 "metadata": {
  "kernelspec": {
   "display_name": "Python 3 (ipykernel)",
   "language": "python",
   "name": "python3"
  },
  "language_info": {
   "codemirror_mode": {
    "name": "ipython",
    "version": 3
   },
   "file_extension": ".py",
   "mimetype": "text/x-python",
   "name": "python",
   "nbconvert_exporter": "python",
   "pygments_lexer": "ipython3",
   "version": "3.8.11"
  }
 },
 "nbformat": 4,
 "nbformat_minor": 5
}
