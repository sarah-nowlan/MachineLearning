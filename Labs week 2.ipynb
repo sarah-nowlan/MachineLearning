{
 "cells": [
  {
   "cell_type": "markdown",
   "metadata": {},
   "source": [
    "Students Name in this group: Sridhar Ponnusamy, Kamakshi Mansukhani, Sarah Nowlan, Param Jaswal"
   ]
  },
  {
   "cell_type": "markdown",
   "metadata": {},
   "source": [
    "# SCHOOL OF COMPUTER TECHNOLOGY\n",
    "\n",
    "\n",
    "AASD 4001 Mathematical Concepts for Machine Learning\n",
    "\n",
    "Labs week 2 \n"
   ]
  },
  {
   "cell_type": "markdown",
   "metadata": {},
   "source": [
    "Excercise1"
   ]
  },
  {
   "cell_type": "markdown",
   "metadata": {},
   "source": [
    "Exercise 1:\n",
    "Open jupyter notebook LabExercise_4.ipynb and go through the following steps:\n",
    "1. Using numpy arrays and slicing operations (:), define and print the following A, B, and C matrix:\n",
    "A=[5 2 3 6 1 3 2 4 1] ,       B=[5 2 3 6 1 3 2 4 1] ,           C=[5 2 3 6 1 3 2 4 1] \n"
   ]
  },
  {
   "cell_type": "code",
   "execution_count": 1,
   "metadata": {},
   "outputs": [
    {
     "name": "stdout",
     "output_type": "stream",
     "text": [
      "A= [[5 2 3]\n",
      " [6 1 3]\n",
      " [2 4 1]]\n",
      "B= [[5 2 3]\n",
      " [6 1 3]\n",
      " [2 4 1]]\n",
      "C= [[5 2 3]\n",
      " [6 1 3]\n",
      " [2 4 1]]\n"
     ]
    }
   ],
   "source": [
    "import numpy as np\n",
    "A = np.matrix([[5,2,3], [6, 1, 3],[2,4,1]])\n",
    "\n",
    "print(\"A=\", A)\n",
    "B= A[: , :]\n",
    "print(\"B=\",B)\n",
    "\n",
    "C= A[0:3,0:3]\n",
    "print(\"C=\",C)"
   ]
  },
  {
   "cell_type": "markdown",
   "metadata": {},
   "source": [
    "2. Define D matrix using numpy:\n",
    "D=4 -7 4 5 6 -1 -4 2 5 \n"
   ]
  },
  {
   "cell_type": "code",
   "execution_count": 2,
   "metadata": {},
   "outputs": [
    {
     "data": {
      "text/plain": [
       "matrix([[ 4, -7,  4],\n",
       "        [ 6, -1, -4],\n",
       "        [-4,  2,  5]])"
      ]
     },
     "execution_count": 2,
     "metadata": {},
     "output_type": "execute_result"
    }
   ],
   "source": [
    "D= np.matrix([[4,-7,4],[6,-1,-4],[-4,2,5]])\n",
    "D"
   ]
  },
  {
   "cell_type": "markdown",
   "metadata": {},
   "source": [
    "3. Use numpy matmul to calculate AD and also DA. Are they equal?"
   ]
  },
  {
   "cell_type": "code",
   "execution_count": 5,
   "metadata": {},
   "outputs": [
    {
     "name": "stdout",
     "output_type": "stream",
     "text": [
      "[[ 20 -31  27]\n",
      " [ 18 -37  35]\n",
      " [ 28 -16  -3]]\n",
      "They are not equal:  [[-14  17  -5]\n",
      " [ 16  -5  11]\n",
      " [  2  14  -1]]\n"
     ]
    }
   ],
   "source": [
    "AD= np.matmul(A,D)\n",
    "print(AD)\n",
    "DA=np.matmul(D,A)\n",
    "print('They are not equal: ' ,  DA)"
   ]
  },
  {
   "cell_type": "markdown",
   "metadata": {},
   "source": [
    "4. Manually calculate the determinant and inverse of B. Use NumPy to calculate the same entities and confirm that your manual calculation agrees with your results from the jupyter notebook.\n"
   ]
  },
  {
   "cell_type": "code",
   "execution_count": 6,
   "metadata": {},
   "outputs": [],
   "source": [
    "#Determinant of B using Numpy\n",
    "\n",
    "determinant_B= np.linalg.det(B)"
   ]
  },
  {
   "cell_type": "code",
   "execution_count": 7,
   "metadata": {},
   "outputs": [
    {
     "name": "stdout",
     "output_type": "stream",
     "text": [
      "11\n",
      "[[-1.          0.90909091  0.27272727]\n",
      " [ 0.         -0.09090909  0.27272727]\n",
      " [ 2.         -1.45454545 -0.63636364]]\n"
     ]
    }
   ],
   "source": [
    "\n",
    "#determinant_B= np.linalg.slogdet(B)\n",
    "\n",
    "print(round(determinant_B))\n",
    "#Inverse of B using Numpy\n",
    "Inverse_Matrix_B=np.linalg.inv(B)\n",
    "print(Inverse_Matrix_B)"
   ]
  },
  {
   "cell_type": "markdown",
   "metadata": {},
   "source": [
    "5. Use NumPy to calculate the inverse of D. Confirm that DD-1 and D-1D both are 3-by-3 identity matrices. Do you have any observations?\n"
   ]
  },
  {
   "cell_type": "code",
   "execution_count": 49,
   "metadata": {},
   "outputs": [
    {
     "data": {
      "text/plain": [
       "matrix([[ 0.02112676,  0.3028169 ,  0.22535211],\n",
       "        [-0.09859155,  0.25352113,  0.28169014],\n",
       "        [ 0.05633803,  0.14084507,  0.26760563]])"
      ]
     },
     "execution_count": 49,
     "metadata": {},
     "output_type": "execute_result"
    }
   ],
   "source": [
    "Inverse_Matrix_D=np.linalg.inv(D)\n",
    "Inverse_Matrix_D"
   ]
  },
  {
   "cell_type": "code",
   "execution_count": 57,
   "metadata": {},
   "outputs": [
    {
     "data": {
      "text/plain": [
       "matrix([[ 1.00000000e+00, -3.33066907e-16, -2.22044605e-16],\n",
       "        [ 0.00000000e+00,  1.00000000e+00,  0.00000000e+00],\n",
       "        [ 2.77555756e-17,  1.66533454e-16,  1.00000000e+00]])"
      ]
     },
     "execution_count": 57,
     "metadata": {},
     "output_type": "execute_result"
    }
   ],
   "source": [
    "\n",
    "DD_1= np.matmul(D,Inverse_Matrix_D)\n",
    "DD_1"
   ]
  },
  {
   "cell_type": "code",
   "execution_count": 58,
   "metadata": {},
   "outputs": [
    {
     "data": {
      "text/plain": [
       "matrix([[1.00000000e+00, 0.00000000e+00, 2.77555756e-16],\n",
       "        [0.00000000e+00, 1.00000000e+00, 1.66533454e-16],\n",
       "        [0.00000000e+00, 0.00000000e+00, 1.00000000e+00]])"
      ]
     },
     "execution_count": 58,
     "metadata": {},
     "output_type": "execute_result"
    }
   ],
   "source": [
    "D_1D=np.matmul(Inverse_Matrix_D,D)\n",
    "D_1D"
   ]
  },
  {
   "cell_type": "markdown",
   "metadata": {},
   "source": [
    "Yes, Both are identity matrices.\n",
    "Any number remains the same when multiplied by 1, any matrix remains the same when multiplied by the identity matrix."
   ]
  },
  {
   "cell_type": "code",
   "execution_count": 60,
   "metadata": {},
   "outputs": [
    {
     "data": {
      "text/plain": [
       "array([[1., 0., 0.],\n",
       "       [0., 1., 0.],\n",
       "       [0., 0., 1.]])"
      ]
     },
     "execution_count": 60,
     "metadata": {},
     "output_type": "execute_result"
    }
   ],
   "source": [
    "#Identity Matrix\n",
    "Identity_matrix=np.identity(3)\n",
    "Identity_matrix"
   ]
  },
  {
   "cell_type": "markdown",
   "metadata": {},
   "source": [
    "Exercise 2:\n",
    "\n",
    "1. Calculate the bag of words (without TF-IDF, just word counts) matrix for the following 5 phrases.\n",
    "*/college student\n",
    "*/airport taxi driver\n",
    "*/Toronto art museum\n",
    "*/life art\n",
    "*/machine learning student\n",
    "\n",
    "\n",
    "Hints: How many rows should be there? How many columns should be there?\n"
   ]
  },
  {
   "cell_type": "code",
   "execution_count": 15,
   "metadata": {},
   "outputs": [
    {
     "name": "stdout",
     "output_type": "stream",
     "text": [
      "['airport', 'art', 'college', 'driver', 'learning', 'life', 'machine', 'museum', 'student', 'taxi', 'toronto']\n",
      "[[0 0 1 0 0 0 0 0 1 0 0]\n",
      " [1 0 0 1 0 0 0 0 0 1 0]\n",
      " [0 1 0 0 0 0 0 1 0 0 1]\n",
      " [0 1 0 0 0 1 0 0 0 0 0]\n",
      " [0 0 0 0 1 0 1 0 1 0 0]]\n"
     ]
    }
   ],
   "source": [
    "#Source: https://scikit-learn.org/stable/modules/generated/sklearn.feature_extraction.text.CountVectorizer.html\n",
    "from sklearn.feature_extraction.text import CountVectorizer\n",
    "corpus = ['college student','airport taxi driver','Toronto art museum','life art','machine learning student'\n",
    "]\n",
    "vectorizer = CountVectorizer()\n",
    "X = vectorizer.fit_transform(corpus)\n",
    "print(vectorizer.get_feature_names())\n",
    "\n",
    "print(X.toarray())"
   ]
  },
  {
   "cell_type": "code",
   "execution_count": 29,
   "metadata": {},
   "outputs": [
    {
     "name": "stdout",
     "output_type": "stream",
     "text": [
      "(5, 11)\n"
     ]
    }
   ],
   "source": [
    "print(X.shape)"
   ]
  },
  {
   "cell_type": "markdown",
   "metadata": {},
   "source": [
    "2. Calculate the IDF for the words “college” and “art”.\n"
   ]
  },
  {
   "cell_type": "code",
   "execution_count": 31,
   "metadata": {},
   "outputs": [],
   "source": [
    "#Source: https://scikit-learn.org/stable/modules/generated/sklearn.feature_extraction.text.CountVectorizer.html\n",
    "from sklearn.feature_extraction.text import TfidfVectorizer\n",
    "IDF_Calc=['college','text']"
   ]
  },
  {
   "cell_type": "code",
   "execution_count": 37,
   "metadata": {},
   "outputs": [],
   "source": [
    "Tf_idf_vect=TfidfVectorizer() "
   ]
  },
  {
   "cell_type": "code",
   "execution_count": 38,
   "metadata": {},
   "outputs": [
    {
     "data": {
      "text/plain": [
       "TfidfVectorizer()"
      ]
     },
     "execution_count": 38,
     "metadata": {},
     "output_type": "execute_result"
    }
   ],
   "source": [
    "Tf_idf_vect.fit(IDF_Calc)"
   ]
  },
  {
   "cell_type": "code",
   "execution_count": 39,
   "metadata": {},
   "outputs": [
    {
     "name": "stdout",
     "output_type": "stream",
     "text": [
      "[1.40546511 1.40546511]\n"
     ]
    }
   ],
   "source": [
    "#IDF values\n",
    "print(vectorizer.idf_)"
   ]
  },
  {
   "cell_type": "code",
   "execution_count": 20,
   "metadata": {},
   "outputs": [],
   "source": []
  },
  {
   "cell_type": "code",
   "execution_count": 4,
   "metadata": {},
   "outputs": [],
   "source": [
    "\n"
   ]
  },
  {
   "cell_type": "code",
   "execution_count": null,
   "metadata": {},
   "outputs": [],
   "source": []
  },
  {
   "cell_type": "code",
   "execution_count": 8,
   "metadata": {},
   "outputs": [],
   "source": [
    "\n"
   ]
  },
  {
   "cell_type": "code",
   "execution_count": 7,
   "metadata": {},
   "outputs": [],
   "source": []
  },
  {
   "cell_type": "code",
   "execution_count": null,
   "metadata": {},
   "outputs": [],
   "source": [
    "\n"
   ]
  }
 ],
 "metadata": {
  "kernelspec": {
   "display_name": "Python 3",
   "language": "python",
   "name": "python3"
  },
  "language_info": {
   "codemirror_mode": {
    "name": "ipython",
    "version": 3
   },
   "file_extension": ".py",
   "mimetype": "text/x-python",
   "name": "python",
   "nbconvert_exporter": "python",
   "pygments_lexer": "ipython3",
   "version": "3.6.4"
  }
 },
 "nbformat": 4,
 "nbformat_minor": 2
}
